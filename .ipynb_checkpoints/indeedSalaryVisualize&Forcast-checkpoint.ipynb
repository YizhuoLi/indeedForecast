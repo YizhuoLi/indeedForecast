{
 "cells": [
  {
   "cell_type": "code",
   "execution_count": 1,
   "metadata": {},
   "outputs": [],
   "source": [
    "import seaborn as sns\n",
    "import matplotlib.pyplot as plt\n",
    "import pandas as pd\n",
    "import numpy as np\n",
    "\n",
    "%matplotlib inline\n",
    "\n",
    "plt.rcParams['figure.figsize'] = (8, 6)\n",
    "plt.rcParams['font.size'] = 17"
   ]
  },
  {
   "cell_type": "code",
   "execution_count": 2,
   "metadata": {},
   "outputs": [
    {
     "data": {
      "text/html": [
       "<div>\n",
       "<style scoped>\n",
       "    .dataframe tbody tr th:only-of-type {\n",
       "        vertical-align: middle;\n",
       "    }\n",
       "\n",
       "    .dataframe tbody tr th {\n",
       "        vertical-align: top;\n",
       "    }\n",
       "\n",
       "    .dataframe thead th {\n",
       "        text-align: right;\n",
       "    }\n",
       "</style>\n",
       "<table border=\"1\" class=\"dataframe\">\n",
       "  <thead>\n",
       "    <tr style=\"text-align: right;\">\n",
       "      <th></th>\n",
       "      <th>title</th>\n",
       "      <th>company</th>\n",
       "      <th>location</th>\n",
       "      <th>summary</th>\n",
       "      <th>salary</th>\n",
       "      <th>href</th>\n",
       "      <th>rate</th>\n",
       "      <th>reviews</th>\n",
       "      <th>org_salary_period</th>\n",
       "      <th>city</th>\n",
       "      <th>state</th>\n",
       "    </tr>\n",
       "  </thead>\n",
       "  <tbody>\n",
       "    <tr>\n",
       "      <th>0</th>\n",
       "      <td>entry level data scientist</td>\n",
       "      <td>ibm</td>\n",
       "      <td>united states</td>\n",
       "      <td>They draw upon the practice of data analysis  ...</td>\n",
       "      <td>NaN</td>\n",
       "      <td>https://www.indeed.com/rc/clk?jk=dbe7498dc4f49...</td>\n",
       "      <td>44.4</td>\n",
       "      <td>23,530</td>\n",
       "      <td>NaN</td>\n",
       "      <td>United States</td>\n",
       "      <td>none</td>\n",
       "    </tr>\n",
       "    <tr>\n",
       "      <th>1</th>\n",
       "      <td>data scientist   own all our big data initiatives</td>\n",
       "      <td>alamo drafthouse cinemas</td>\n",
       "      <td>none</td>\n",
       "      <td>You will drive key business decisions through ...</td>\n",
       "      <td>NaN</td>\n",
       "      <td>https://www.indeed.com/rc/clk?jk=82f38b22d2e80...</td>\n",
       "      <td>44.4</td>\n",
       "      <td>287</td>\n",
       "      <td>NaN</td>\n",
       "      <td>None</td>\n",
       "      <td>none</td>\n",
       "    </tr>\n",
       "    <tr>\n",
       "      <th>2</th>\n",
       "      <td>data scientist   full time</td>\n",
       "      <td>miami heat</td>\n",
       "      <td>none</td>\n",
       "      <td>Apply advanced analytic techniques such as mac...</td>\n",
       "      <td>NaN</td>\n",
       "      <td>https://www.indeed.com/rc/clk?jk=d641d3488fc77...</td>\n",
       "      <td>52.8</td>\n",
       "      <td>27</td>\n",
       "      <td>NaN</td>\n",
       "      <td>None</td>\n",
       "      <td>none</td>\n",
       "    </tr>\n",
       "    <tr>\n",
       "      <th>4</th>\n",
       "      <td>data scientist</td>\n",
       "      <td>kaiser permanente</td>\n",
       "      <td>pasadena  ca</td>\n",
       "      <td>Additional responsiblilities for related consu...</td>\n",
       "      <td>NaN</td>\n",
       "      <td>https://www.indeed.com/rc/clk?jk=7aed7cc38549b...</td>\n",
       "      <td>52.2</td>\n",
       "      <td>8,200</td>\n",
       "      <td>NaN</td>\n",
       "      <td>Pasadena</td>\n",
       "      <td>CA</td>\n",
       "    </tr>\n",
       "    <tr>\n",
       "      <th>5</th>\n",
       "      <td>data scientist</td>\n",
       "      <td>optimized solutions</td>\n",
       "      <td>chicago  il</td>\n",
       "      <td>Job Summary ROLE : DATA SCIENTIST LOCATION : C...</td>\n",
       "      <td>NaN</td>\n",
       "      <td>https://www.indeed.com/company/Optimized-Solut...</td>\n",
       "      <td>52.8</td>\n",
       "      <td>27</td>\n",
       "      <td>NaN</td>\n",
       "      <td>Chicago</td>\n",
       "      <td>IL</td>\n",
       "    </tr>\n",
       "  </tbody>\n",
       "</table>\n",
       "</div>"
      ],
      "text/plain": [
       "                                               title  \\\n",
       "0                         entry level data scientist   \n",
       "1  data scientist   own all our big data initiatives   \n",
       "2                         data scientist   full time   \n",
       "4                                     data scientist   \n",
       "5                                     data scientist   \n",
       "\n",
       "                    company       location  \\\n",
       "0                       ibm  united states   \n",
       "1  alamo drafthouse cinemas           none   \n",
       "2                miami heat           none   \n",
       "4         kaiser permanente   pasadena  ca   \n",
       "5       optimized solutions    chicago  il   \n",
       "\n",
       "                                             summary  salary  \\\n",
       "0  They draw upon the practice of data analysis  ...     NaN   \n",
       "1  You will drive key business decisions through ...     NaN   \n",
       "2  Apply advanced analytic techniques such as mac...     NaN   \n",
       "4  Additional responsiblilities for related consu...     NaN   \n",
       "5  Job Summary ROLE : DATA SCIENTIST LOCATION : C...     NaN   \n",
       "\n",
       "                                                href  rate reviews  \\\n",
       "0  https://www.indeed.com/rc/clk?jk=dbe7498dc4f49...  44.4  23,530   \n",
       "1  https://www.indeed.com/rc/clk?jk=82f38b22d2e80...  44.4     287   \n",
       "2  https://www.indeed.com/rc/clk?jk=d641d3488fc77...  52.8      27   \n",
       "4  https://www.indeed.com/rc/clk?jk=7aed7cc38549b...  52.2   8,200   \n",
       "5  https://www.indeed.com/company/Optimized-Solut...  52.8      27   \n",
       "\n",
       "  org_salary_period           city state  \n",
       "0               NaN  United States  none  \n",
       "1               NaN           None  none  \n",
       "2               NaN           None  none  \n",
       "4               NaN       Pasadena    CA  \n",
       "5               NaN        Chicago    IL  "
      ]
     },
     "execution_count": 2,
     "metadata": {},
     "output_type": "execute_result"
    }
   ],
   "source": [
    "full_data = pd.read_csv('clean_data_scientist.csv', index_col=0)\n",
    "full_data.head(5)"
   ]
  },
  {
   "cell_type": "code",
   "execution_count": 3,
   "metadata": {},
   "outputs": [
    {
     "name": "stdout",
     "output_type": "stream",
     "text": [
      "(14243, 11)\n"
     ]
    },
    {
     "data": {
      "text/html": [
       "<div>\n",
       "<style scoped>\n",
       "    .dataframe tbody tr th:only-of-type {\n",
       "        vertical-align: middle;\n",
       "    }\n",
       "\n",
       "    .dataframe tbody tr th {\n",
       "        vertical-align: top;\n",
       "    }\n",
       "\n",
       "    .dataframe thead th {\n",
       "        text-align: right;\n",
       "    }\n",
       "</style>\n",
       "<table border=\"1\" class=\"dataframe\">\n",
       "  <thead>\n",
       "    <tr style=\"text-align: right;\">\n",
       "      <th></th>\n",
       "      <th>title</th>\n",
       "      <th>company</th>\n",
       "      <th>location</th>\n",
       "      <th>summary</th>\n",
       "      <th>salary</th>\n",
       "      <th>href</th>\n",
       "      <th>rate</th>\n",
       "      <th>reviews</th>\n",
       "      <th>org_salary_period</th>\n",
       "      <th>city</th>\n",
       "      <th>state</th>\n",
       "    </tr>\n",
       "  </thead>\n",
       "  <tbody>\n",
       "    <tr>\n",
       "      <th>14241</th>\n",
       "      <td>data science instructor</td>\n",
       "      <td>thinkful</td>\n",
       "      <td>plantation  fl</td>\n",
       "      <td>You’ll engage with attendees in person on a we...</td>\n",
       "      <td>51700.0</td>\n",
       "      <td>https://www.indeed.com/pagead/clk?mo=r&amp;ad=-6NY...</td>\n",
       "      <td>31.8</td>\n",
       "      <td>6</td>\n",
       "      <td>hour</td>\n",
       "      <td>Plantation</td>\n",
       "      <td>FL</td>\n",
       "    </tr>\n",
       "    <tr>\n",
       "      <th>14242</th>\n",
       "      <td>nlp and machine learning   internship</td>\n",
       "      <td>mei messaging</td>\n",
       "      <td>new york  ny</td>\n",
       "      <td>You will conduct research and help implement a...</td>\n",
       "      <td>23030.0</td>\n",
       "      <td>https://www.indeed.com/company/Mei/jobs/Nlp-Ma...</td>\n",
       "      <td>60.0</td>\n",
       "      <td>3</td>\n",
       "      <td>hour</td>\n",
       "      <td>New York</td>\n",
       "      <td>NY</td>\n",
       "    </tr>\n",
       "  </tbody>\n",
       "</table>\n",
       "</div>"
      ],
      "text/plain": [
       "                                       title        company        location  \\\n",
       "14241                data science instructor       thinkful  plantation  fl   \n",
       "14242  nlp and machine learning   internship  mei messaging    new york  ny   \n",
       "\n",
       "                                                 summary   salary  \\\n",
       "14241  You’ll engage with attendees in person on a we...  51700.0   \n",
       "14242  You will conduct research and help implement a...  23030.0   \n",
       "\n",
       "                                                    href  rate reviews  \\\n",
       "14241  https://www.indeed.com/pagead/clk?mo=r&ad=-6NY...  31.8       6   \n",
       "14242  https://www.indeed.com/company/Mei/jobs/Nlp-Ma...  60.0       3   \n",
       "\n",
       "      org_salary_period        city state  \n",
       "14241              hour  Plantation    FL  \n",
       "14242              hour    New York    NY  "
      ]
     },
     "execution_count": 3,
     "metadata": {},
     "output_type": "execute_result"
    }
   ],
   "source": [
    "full_data.reset_index(drop=True, inplace=True)\n",
    "print(full_data.shape)\n",
    "full_data.tail(2)"
   ]
  },
  {
   "cell_type": "code",
   "execution_count": 4,
   "metadata": {},
   "outputs": [
    {
     "name": "stdout",
     "output_type": "stream",
     "text": [
      "salary median: 60000.0\n",
      "salary mean: 75870.9029036827\n"
     ]
    }
   ],
   "source": [
    "print('salary median: ' + str(full_data['salary'].median()))\n",
    "print('salary mean: '+ str(full_data['salary'].mean()))"
   ]
  },
  {
   "cell_type": "code",
   "execution_count": 5,
   "metadata": {},
   "outputs": [
    {
     "data": {
      "text/html": [
       "<div>\n",
       "<style scoped>\n",
       "    .dataframe tbody tr th:only-of-type {\n",
       "        vertical-align: middle;\n",
       "    }\n",
       "\n",
       "    .dataframe tbody tr th {\n",
       "        vertical-align: top;\n",
       "    }\n",
       "\n",
       "    .dataframe thead th {\n",
       "        text-align: right;\n",
       "    }\n",
       "</style>\n",
       "<table border=\"1\" class=\"dataframe\">\n",
       "  <thead>\n",
       "    <tr style=\"text-align: right;\">\n",
       "      <th></th>\n",
       "      <th>title</th>\n",
       "      <th>company</th>\n",
       "      <th>location</th>\n",
       "      <th>summary</th>\n",
       "      <th>salary</th>\n",
       "      <th>href</th>\n",
       "      <th>rate</th>\n",
       "      <th>reviews</th>\n",
       "      <th>org_salary_period</th>\n",
       "      <th>city</th>\n",
       "      <th>state</th>\n",
       "      <th>above_med_sal</th>\n",
       "    </tr>\n",
       "  </thead>\n",
       "  <tbody>\n",
       "    <tr>\n",
       "      <th>14241</th>\n",
       "      <td>data science instructor</td>\n",
       "      <td>thinkful</td>\n",
       "      <td>plantation  fl</td>\n",
       "      <td>You’ll engage with attendees in person on a we...</td>\n",
       "      <td>51700.0</td>\n",
       "      <td>https://www.indeed.com/pagead/clk?mo=r&amp;ad=-6NY...</td>\n",
       "      <td>31.8</td>\n",
       "      <td>6</td>\n",
       "      <td>hour</td>\n",
       "      <td>Plantation</td>\n",
       "      <td>FL</td>\n",
       "      <td>0.0</td>\n",
       "    </tr>\n",
       "    <tr>\n",
       "      <th>14242</th>\n",
       "      <td>nlp and machine learning   internship</td>\n",
       "      <td>mei messaging</td>\n",
       "      <td>new york  ny</td>\n",
       "      <td>You will conduct research and help implement a...</td>\n",
       "      <td>23030.0</td>\n",
       "      <td>https://www.indeed.com/company/Mei/jobs/Nlp-Ma...</td>\n",
       "      <td>60.0</td>\n",
       "      <td>3</td>\n",
       "      <td>hour</td>\n",
       "      <td>New York</td>\n",
       "      <td>NY</td>\n",
       "      <td>0.0</td>\n",
       "    </tr>\n",
       "  </tbody>\n",
       "</table>\n",
       "</div>"
      ],
      "text/plain": [
       "                                       title        company        location  \\\n",
       "14241                data science instructor       thinkful  plantation  fl   \n",
       "14242  nlp and machine learning   internship  mei messaging    new york  ny   \n",
       "\n",
       "                                                 summary   salary  \\\n",
       "14241  You’ll engage with attendees in person on a we...  51700.0   \n",
       "14242  You will conduct research and help implement a...  23030.0   \n",
       "\n",
       "                                                    href  rate reviews  \\\n",
       "14241  https://www.indeed.com/pagead/clk?mo=r&ad=-6NY...  31.8       6   \n",
       "14242  https://www.indeed.com/company/Mei/jobs/Nlp-Ma...  60.0       3   \n",
       "\n",
       "      org_salary_period        city state  above_med_sal  \n",
       "14241              hour  Plantation    FL            0.0  \n",
       "14242              hour    New York    NY            0.0  "
      ]
     },
     "execution_count": 5,
     "metadata": {},
     "output_type": "execute_result"
    }
   ],
   "source": [
    "full_data['above_med_sal'] = np.nan\n",
    "full_data.loc[full_data['salary'] > full_data['salary'].median(), 'above_med_sal'] = 1\n",
    "full_data.loc[full_data['salary'] <= full_data['salary'].median(), 'above_med_sal'] = 0\n",
    "\n",
    "full_data.tail(2)"
   ]
  },
  {
   "cell_type": "code",
   "execution_count": 6,
   "metadata": {},
   "outputs": [
    {
     "data": {
      "text/html": [
       "<div>\n",
       "<style scoped>\n",
       "    .dataframe tbody tr th:only-of-type {\n",
       "        vertical-align: middle;\n",
       "    }\n",
       "\n",
       "    .dataframe tbody tr th {\n",
       "        vertical-align: top;\n",
       "    }\n",
       "\n",
       "    .dataframe thead th {\n",
       "        text-align: right;\n",
       "    }\n",
       "</style>\n",
       "<table border=\"1\" class=\"dataframe\">\n",
       "  <thead>\n",
       "    <tr style=\"text-align: right;\">\n",
       "      <th></th>\n",
       "      <th>salary</th>\n",
       "      <th>rate</th>\n",
       "      <th>above_med_sal</th>\n",
       "    </tr>\n",
       "  </thead>\n",
       "  <tbody>\n",
       "    <tr>\n",
       "      <th>count</th>\n",
       "      <td>1412.000000</td>\n",
       "      <td>14243.000000</td>\n",
       "      <td>1412.000000</td>\n",
       "    </tr>\n",
       "    <tr>\n",
       "      <th>mean</th>\n",
       "      <td>75870.902904</td>\n",
       "      <td>46.017510</td>\n",
       "      <td>0.497167</td>\n",
       "    </tr>\n",
       "    <tr>\n",
       "      <th>std</th>\n",
       "      <td>40580.471559</td>\n",
       "      <td>5.789445</td>\n",
       "      <td>0.500169</td>\n",
       "    </tr>\n",
       "    <tr>\n",
       "      <th>min</th>\n",
       "      <td>12500.000000</td>\n",
       "      <td>16.800000</td>\n",
       "      <td>0.000000</td>\n",
       "    </tr>\n",
       "    <tr>\n",
       "      <th>25%</th>\n",
       "      <td>50000.000000</td>\n",
       "      <td>42.600000</td>\n",
       "      <td>0.000000</td>\n",
       "    </tr>\n",
       "    <tr>\n",
       "      <th>50%</th>\n",
       "      <td>60000.000000</td>\n",
       "      <td>44.400000</td>\n",
       "      <td>0.000000</td>\n",
       "    </tr>\n",
       "    <tr>\n",
       "      <th>75%</th>\n",
       "      <td>100000.000000</td>\n",
       "      <td>51.000000</td>\n",
       "      <td>1.000000</td>\n",
       "    </tr>\n",
       "    <tr>\n",
       "      <th>max</th>\n",
       "      <td>275000.000000</td>\n",
       "      <td>60.000000</td>\n",
       "      <td>1.000000</td>\n",
       "    </tr>\n",
       "  </tbody>\n",
       "</table>\n",
       "</div>"
      ],
      "text/plain": [
       "              salary          rate  above_med_sal\n",
       "count    1412.000000  14243.000000    1412.000000\n",
       "mean    75870.902904     46.017510       0.497167\n",
       "std     40580.471559      5.789445       0.500169\n",
       "min     12500.000000     16.800000       0.000000\n",
       "25%     50000.000000     42.600000       0.000000\n",
       "50%     60000.000000     44.400000       0.000000\n",
       "75%    100000.000000     51.000000       1.000000\n",
       "max    275000.000000     60.000000       1.000000"
      ]
     },
     "execution_count": 6,
     "metadata": {},
     "output_type": "execute_result"
    }
   ],
   "source": [
    "full_data.describe()"
   ]
  },
  {
   "cell_type": "code",
   "execution_count": 7,
   "metadata": {},
   "outputs": [
    {
     "name": "stdout",
     "output_type": "stream",
     "text": [
      "<class 'pandas.core.frame.DataFrame'>\n",
      "RangeIndex: 14243 entries, 0 to 14242\n",
      "Data columns (total 12 columns):\n",
      "title                14243 non-null object\n",
      "company              14243 non-null object\n",
      "location             14243 non-null object\n",
      "summary              14240 non-null object\n",
      "salary               1412 non-null float64\n",
      "href                 14243 non-null object\n",
      "rate                 14243 non-null float64\n",
      "reviews              14243 non-null object\n",
      "org_salary_period    1412 non-null object\n",
      "city                 14243 non-null object\n",
      "state                14243 non-null object\n",
      "above_med_sal        1412 non-null float64\n",
      "dtypes: float64(3), object(9)\n",
      "memory usage: 1.3+ MB\n"
     ]
    }
   ],
   "source": [
    "full_data.info()"
   ]
  },
  {
   "cell_type": "code",
   "execution_count": 8,
   "metadata": {},
   "outputs": [
    {
     "data": {
      "text/plain": [
       "275000.0"
      ]
     },
     "execution_count": 8,
     "metadata": {},
     "output_type": "execute_result"
    }
   ],
   "source": [
    "full_data['salary'].max()"
   ]
  },
  {
   "cell_type": "code",
   "execution_count": 9,
   "metadata": {
    "scrolled": true
   },
   "outputs": [
    {
     "data": {
      "text/plain": [
       "12500.0"
      ]
     },
     "execution_count": 9,
     "metadata": {},
     "output_type": "execute_result"
    }
   ],
   "source": [
    "full_data['salary'].min()"
   ]
  },
  {
   "cell_type": "code",
   "execution_count": 10,
   "metadata": {},
   "outputs": [
    {
     "data": {
      "text/plain": [
       "<matplotlib.axes._subplots.AxesSubplot at 0x10c7311d0>"
      ]
     },
     "execution_count": 10,
     "metadata": {},
     "output_type": "execute_result"
    },
    {
     "data": {
      "image/png": "[encoded data removed]",
      "text/plain": [
       "<Figure size 432x288 with 1 Axes>"
      ]
     },
     "metadata": {},
     "output_type": "display_data"
    }
   ],
   "source": [
    "salary_range = list(range(int(full_data['salary'].min()), int(full_data['salary'].max()), 20000))\n",
    "salary_group = pd.cut(full_data['salary'].values, salary_range, right=False)\n",
    "# print(salary_group.codes)#标签\n",
    "# print(salary_group.categories)#分组区间，长度8\n",
    "frequency=salary_group.value_counts()#series,区间-个数\n",
    "# print(frequency.index)\n",
    "\n",
    "frequency.plot(kind='bar')"
   ]
  },
  {
   "cell_type": "code",
   "execution_count": 11,
   "metadata": {},
   "outputs": [
    {
     "data": {
      "text/html": [
       "<div>\n",
       "<style scoped>\n",
       "    .dataframe tbody tr th:only-of-type {\n",
       "        vertical-align: middle;\n",
       "    }\n",
       "\n",
       "    .dataframe tbody tr th {\n",
       "        vertical-align: top;\n",
       "    }\n",
       "\n",
       "    .dataframe thead th {\n",
       "        text-align: right;\n",
       "    }\n",
       "</style>\n",
       "<table border=\"1\" class=\"dataframe\">\n",
       "  <thead>\n",
       "    <tr style=\"text-align: right;\">\n",
       "      <th></th>\n",
       "      <th>count</th>\n",
       "      <th>frequency f</th>\n",
       "      <th>frequency %</th>\n",
       "      <th>accu freq f</th>\n",
       "      <th>accu freq %</th>\n",
       "    </tr>\n",
       "  </thead>\n",
       "  <tbody>\n",
       "    <tr>\n",
       "      <th>[12500, 32500)</th>\n",
       "      <td>143</td>\n",
       "      <td>0.101347</td>\n",
       "      <td>10.13%</td>\n",
       "      <td>0.101347</td>\n",
       "      <td>10.1347%</td>\n",
       "    </tr>\n",
       "    <tr>\n",
       "      <th>[32500, 52500)</th>\n",
       "      <td>407</td>\n",
       "      <td>0.288448</td>\n",
       "      <td>28.84%</td>\n",
       "      <td>0.389794</td>\n",
       "      <td>38.9794%</td>\n",
       "    </tr>\n",
       "    <tr>\n",
       "      <th>[52500, 72500)</th>\n",
       "      <td>275</td>\n",
       "      <td>0.194897</td>\n",
       "      <td>19.49%</td>\n",
       "      <td>0.584692</td>\n",
       "      <td>58.4692%</td>\n",
       "    </tr>\n",
       "    <tr>\n",
       "      <th>[72500, 92500)</th>\n",
       "      <td>154</td>\n",
       "      <td>0.109142</td>\n",
       "      <td>10.91%</td>\n",
       "      <td>0.693834</td>\n",
       "      <td>69.3834%</td>\n",
       "    </tr>\n",
       "    <tr>\n",
       "      <th>[92500, 112500)</th>\n",
       "      <td>143</td>\n",
       "      <td>0.101347</td>\n",
       "      <td>10.13%</td>\n",
       "      <td>0.795181</td>\n",
       "      <td>79.5181%</td>\n",
       "    </tr>\n",
       "    <tr>\n",
       "      <th>[112500, 132500)</th>\n",
       "      <td>169</td>\n",
       "      <td>0.119773</td>\n",
       "      <td>11.98%</td>\n",
       "      <td>0.914954</td>\n",
       "      <td>91.4954%</td>\n",
       "    </tr>\n",
       "    <tr>\n",
       "      <th>[132500, 152500)</th>\n",
       "      <td>53</td>\n",
       "      <td>0.037562</td>\n",
       "      <td>3.76%</td>\n",
       "      <td>0.952516</td>\n",
       "      <td>95.2516%</td>\n",
       "    </tr>\n",
       "    <tr>\n",
       "      <th>[152500, 172500)</th>\n",
       "      <td>34</td>\n",
       "      <td>0.024096</td>\n",
       "      <td>2.41%</td>\n",
       "      <td>0.976612</td>\n",
       "      <td>97.6612%</td>\n",
       "    </tr>\n",
       "    <tr>\n",
       "      <th>[172500, 192500)</th>\n",
       "      <td>17</td>\n",
       "      <td>0.012048</td>\n",
       "      <td>1.20%</td>\n",
       "      <td>0.988661</td>\n",
       "      <td>98.8661%</td>\n",
       "    </tr>\n",
       "    <tr>\n",
       "      <th>[192500, 212500)</th>\n",
       "      <td>7</td>\n",
       "      <td>0.004961</td>\n",
       "      <td>0.50%</td>\n",
       "      <td>0.993622</td>\n",
       "      <td>99.3622%</td>\n",
       "    </tr>\n",
       "    <tr>\n",
       "      <th>[212500, 232500)</th>\n",
       "      <td>5</td>\n",
       "      <td>0.003544</td>\n",
       "      <td>0.35%</td>\n",
       "      <td>0.997165</td>\n",
       "      <td>99.7165%</td>\n",
       "    </tr>\n",
       "    <tr>\n",
       "      <th>[232500, 252500)</th>\n",
       "      <td>4</td>\n",
       "      <td>0.002835</td>\n",
       "      <td>0.28%</td>\n",
       "      <td>1.000000</td>\n",
       "      <td>100.0000%</td>\n",
       "    </tr>\n",
       "    <tr>\n",
       "      <th>[252500, 272500)</th>\n",
       "      <td>0</td>\n",
       "      <td>0.000000</td>\n",
       "      <td>0.00%</td>\n",
       "      <td>1.000000</td>\n",
       "      <td>100.0000%</td>\n",
       "    </tr>\n",
       "  </tbody>\n",
       "</table>\n",
       "</div>"
      ],
      "text/plain": [
       "                  count  frequency f frequency %  accu freq f accu freq %\n",
       "[12500, 32500)      143     0.101347      10.13%     0.101347    10.1347%\n",
       "[32500, 52500)      407     0.288448      28.84%     0.389794    38.9794%\n",
       "[52500, 72500)      275     0.194897      19.49%     0.584692    58.4692%\n",
       "[72500, 92500)      154     0.109142      10.91%     0.693834    69.3834%\n",
       "[92500, 112500)     143     0.101347      10.13%     0.795181    79.5181%\n",
       "[112500, 132500)    169     0.119773      11.98%     0.914954    91.4954%\n",
       "[132500, 152500)     53     0.037562       3.76%     0.952516    95.2516%\n",
       "[152500, 172500)     34     0.024096       2.41%     0.976612    97.6612%\n",
       "[172500, 192500)     17     0.012048       1.20%     0.988661    98.8661%\n",
       "[192500, 212500)      7     0.004961       0.50%     0.993622    99.3622%\n",
       "[212500, 232500)      5     0.003544       0.35%     0.997165    99.7165%\n",
       "[232500, 252500)      4     0.002835       0.28%     1.000000   100.0000%\n",
       "[252500, 272500)      0     0.000000       0.00%     1.000000   100.0000%"
      ]
     },
     "execution_count": 11,
     "metadata": {},
     "output_type": "execute_result"
    }
   ],
   "source": [
    "frequency_df=pd.DataFrame(frequency,columns=['count'])\n",
    "frequency_df['frequency f']=frequency_df / frequency_df['count'].sum()\n",
    "frequency_df['frequency %']=frequency_df['frequency f'].map(lambda x:'%.2f%%'%(x*100))\n",
    " \n",
    "frequency_df['accu freq f']=frequency_df['frequency f'].cumsum()\n",
    "frequency_df['accu freq %']=frequency_df['accu freq f'].map(lambda x:'%.4f%%'%(x*100))\n",
    " \n",
    "frequency_df"
   ]
  },
  {
   "cell_type": "code",
   "execution_count": 12,
   "metadata": {
    "scrolled": true
   },
   "outputs": [
    {
     "data": {
      "text/plain": [
       "NY      1928\n",
       "CA      1900\n",
       "WA      1542\n",
       "CO      1385\n",
       "TX      1283\n",
       "PA      1252\n",
       "none     993\n",
       "IL       926\n",
       "GA       714\n",
       "FL       653\n",
       "AZ       466\n",
       "MD       317\n",
       "VA       278\n",
       "OR       216\n",
       "DC       164\n",
       "DE        51\n",
       "NJ        42\n",
       "MA        29\n",
       "MO        15\n",
       "MN        12\n",
       "NC        11\n",
       "IN         9\n",
       "WI         8\n",
       "MI         7\n",
       "ID         7\n",
       "OH         7\n",
       "NV         4\n",
       "TN         3\n",
       "AR         3\n",
       "CT         3\n",
       "ME         2\n",
       "OK         2\n",
       "AL         2\n",
       "SC         2\n",
       "KS         2\n",
       "IA         1\n",
       "LA         1\n",
       "NH         1\n",
       "RI         1\n",
       "WV         1\n",
       "Name: state, dtype: int64"
      ]
     },
     "execution_count": 12,
     "metadata": {},
     "output_type": "execute_result"
    }
   ],
   "source": [
    "full_data['state'].value_counts()"
   ]
  },
  {
   "cell_type": "code",
   "execution_count": 13,
   "metadata": {},
   "outputs": [],
   "source": [
    "most_job_states = full_data['state'].value_counts().index.values[0:6]"
   ]
  },
  {
   "cell_type": "code",
   "execution_count": 14,
   "metadata": {},
   "outputs": [
    {
     "name": "stderr",
     "output_type": "stream",
     "text": [
      "/Users/yizhuoli/anaconda3/lib/python3.6/site-packages/matplotlib/axes/_axes.py:6462: UserWarning: The 'normed' kwarg is deprecated, and has been replaced by the 'density' kwarg.\n",
      "  warnings.warn(\"The 'normed' kwarg is deprecated, and has been \"\n"
     ]
    },
    {
     "data": {
      "text/plain": [
       "<matplotlib.axes._subplots.AxesSubplot at 0x10b9262b0>"
      ]
     },
     "execution_count": 14,
     "metadata": {},
     "output_type": "execute_result"
    },
    {
     "data": {
      "image/png": "[encoded data removed]",
      "text/plain": [
       "<Figure size 432x288 with 1 Axes>"
      ]
     },
     "metadata": {},
     "output_type": "display_data"
    }
   ],
   "source": [
    "sns.distplot(full_data['salary'].dropna(),rug=True)"
   ]
  },
  {
   "cell_type": "code",
   "execution_count": 15,
   "metadata": {
    "scrolled": true
   },
   "outputs": [],
   "source": [
    "full_data['review_status'] = full_data.reviews.str.replace(',','')\n",
    "full_data['review_status'] = pd.to_numeric(full_data['review_status'], errors='coerce')"
   ]
  },
  {
   "cell_type": "code",
   "execution_count": 16,
   "metadata": {},
   "outputs": [
    {
     "name": "stdout",
     "output_type": "stream",
     "text": [
      "14243\n"
     ]
    }
   ],
   "source": [
    "review_status_list = []\n",
    "for value in full_data['review_status']:\n",
    "    if value<50:\n",
    "        review_status_list.append('seldom')\n",
    "    elif value<1500:\n",
    "        review_status_list.append('normal')\n",
    "    else:\n",
    "        review_status_list.append('good')\n",
    "        \n",
    "print(len(review_status_list))"
   ]
  },
  {
   "cell_type": "code",
   "execution_count": 17,
   "metadata": {},
   "outputs": [
    {
     "data": {
      "text/html": [
       "<div>\n",
       "<style scoped>\n",
       "    .dataframe tbody tr th:only-of-type {\n",
       "        vertical-align: middle;\n",
       "    }\n",
       "\n",
       "    .dataframe tbody tr th {\n",
       "        vertical-align: top;\n",
       "    }\n",
       "\n",
       "    .dataframe thead th {\n",
       "        text-align: right;\n",
       "    }\n",
       "</style>\n",
       "<table border=\"1\" class=\"dataframe\">\n",
       "  <thead>\n",
       "    <tr style=\"text-align: right;\">\n",
       "      <th></th>\n",
       "      <th>title</th>\n",
       "      <th>company</th>\n",
       "      <th>location</th>\n",
       "      <th>summary</th>\n",
       "      <th>salary</th>\n",
       "      <th>href</th>\n",
       "      <th>rate</th>\n",
       "      <th>reviews</th>\n",
       "      <th>org_salary_period</th>\n",
       "      <th>city</th>\n",
       "      <th>state</th>\n",
       "      <th>above_med_sal</th>\n",
       "      <th>review_status</th>\n",
       "    </tr>\n",
       "  </thead>\n",
       "  <tbody>\n",
       "    <tr>\n",
       "      <th>0</th>\n",
       "      <td>entry level data scientist</td>\n",
       "      <td>ibm</td>\n",
       "      <td>united states</td>\n",
       "      <td>They draw upon the practice of data analysis  ...</td>\n",
       "      <td>NaN</td>\n",
       "      <td>https://www.indeed.com/rc/clk?jk=dbe7498dc4f49...</td>\n",
       "      <td>44.4</td>\n",
       "      <td>23,530</td>\n",
       "      <td>NaN</td>\n",
       "      <td>United States</td>\n",
       "      <td>none</td>\n",
       "      <td>NaN</td>\n",
       "      <td>good</td>\n",
       "    </tr>\n",
       "    <tr>\n",
       "      <th>1</th>\n",
       "      <td>data scientist   own all our big data initiatives</td>\n",
       "      <td>alamo drafthouse cinemas</td>\n",
       "      <td>none</td>\n",
       "      <td>You will drive key business decisions through ...</td>\n",
       "      <td>NaN</td>\n",
       "      <td>https://www.indeed.com/rc/clk?jk=82f38b22d2e80...</td>\n",
       "      <td>44.4</td>\n",
       "      <td>287</td>\n",
       "      <td>NaN</td>\n",
       "      <td>None</td>\n",
       "      <td>none</td>\n",
       "      <td>NaN</td>\n",
       "      <td>normal</td>\n",
       "    </tr>\n",
       "    <tr>\n",
       "      <th>2</th>\n",
       "      <td>data scientist   full time</td>\n",
       "      <td>miami heat</td>\n",
       "      <td>none</td>\n",
       "      <td>Apply advanced analytic techniques such as mac...</td>\n",
       "      <td>NaN</td>\n",
       "      <td>https://www.indeed.com/rc/clk?jk=d641d3488fc77...</td>\n",
       "      <td>52.8</td>\n",
       "      <td>27</td>\n",
       "      <td>NaN</td>\n",
       "      <td>None</td>\n",
       "      <td>none</td>\n",
       "      <td>NaN</td>\n",
       "      <td>seldom</td>\n",
       "    </tr>\n",
       "    <tr>\n",
       "      <th>3</th>\n",
       "      <td>data scientist</td>\n",
       "      <td>kaiser permanente</td>\n",
       "      <td>pasadena  ca</td>\n",
       "      <td>Additional responsiblilities for related consu...</td>\n",
       "      <td>NaN</td>\n",
       "      <td>https://www.indeed.com/rc/clk?jk=7aed7cc38549b...</td>\n",
       "      <td>52.2</td>\n",
       "      <td>8,200</td>\n",
       "      <td>NaN</td>\n",
       "      <td>Pasadena</td>\n",
       "      <td>CA</td>\n",
       "      <td>NaN</td>\n",
       "      <td>good</td>\n",
       "    </tr>\n",
       "  </tbody>\n",
       "</table>\n",
       "</div>"
      ],
      "text/plain": [
       "                                               title  \\\n",
       "0                         entry level data scientist   \n",
       "1  data scientist   own all our big data initiatives   \n",
       "2                         data scientist   full time   \n",
       "3                                     data scientist   \n",
       "\n",
       "                    company       location  \\\n",
       "0                       ibm  united states   \n",
       "1  alamo drafthouse cinemas           none   \n",
       "2                miami heat           none   \n",
       "3         kaiser permanente   pasadena  ca   \n",
       "\n",
       "                                             summary  salary  \\\n",
       "0  They draw upon the practice of data analysis  ...     NaN   \n",
       "1  You will drive key business decisions through ...     NaN   \n",
       "2  Apply advanced analytic techniques such as mac...     NaN   \n",
       "3  Additional responsiblilities for related consu...     NaN   \n",
       "\n",
       "                                                href  rate reviews  \\\n",
       "0  https://www.indeed.com/rc/clk?jk=dbe7498dc4f49...  44.4  23,530   \n",
       "1  https://www.indeed.com/rc/clk?jk=82f38b22d2e80...  44.4     287   \n",
       "2  https://www.indeed.com/rc/clk?jk=d641d3488fc77...  52.8      27   \n",
       "3  https://www.indeed.com/rc/clk?jk=7aed7cc38549b...  52.2   8,200   \n",
       "\n",
       "  org_salary_period           city state  above_med_sal review_status  \n",
       "0               NaN  United States  none            NaN          good  \n",
       "1               NaN           None  none            NaN        normal  \n",
       "2               NaN           None  none            NaN        seldom  \n",
       "3               NaN       Pasadena    CA            NaN          good  "
      ]
     },
     "execution_count": 17,
     "metadata": {},
     "output_type": "execute_result"
    }
   ],
   "source": [
    "full_data['review_status'] = pd.DataFrame(review_status_list)\n",
    "full_data.head(4)"
   ]
  },
  {
   "cell_type": "code",
   "execution_count": 18,
   "metadata": {},
   "outputs": [
    {
     "data": {
      "text/html": [
       "<div>\n",
       "<style scoped>\n",
       "    .dataframe tbody tr th:only-of-type {\n",
       "        vertical-align: middle;\n",
       "    }\n",
       "\n",
       "    .dataframe tbody tr th {\n",
       "        vertical-align: top;\n",
       "    }\n",
       "\n",
       "    .dataframe thead th {\n",
       "        text-align: right;\n",
       "    }\n",
       "</style>\n",
       "<table border=\"1\" class=\"dataframe\">\n",
       "  <thead>\n",
       "    <tr style=\"text-align: right;\">\n",
       "      <th></th>\n",
       "      <th>title</th>\n",
       "      <th>company</th>\n",
       "      <th>location</th>\n",
       "      <th>summary</th>\n",
       "      <th>salary</th>\n",
       "      <th>href</th>\n",
       "      <th>rate</th>\n",
       "      <th>reviews</th>\n",
       "      <th>org_salary_period</th>\n",
       "      <th>city</th>\n",
       "      <th>state</th>\n",
       "      <th>above_med_sal</th>\n",
       "      <th>review_status</th>\n",
       "    </tr>\n",
       "  </thead>\n",
       "  <tbody>\n",
       "    <tr>\n",
       "      <th>14165</th>\n",
       "      <td>data scientist developer</td>\n",
       "      <td>insight global</td>\n",
       "      <td>none</td>\n",
       "      <td>The main project they will be working on at fi...</td>\n",
       "      <td>56400.0</td>\n",
       "      <td>https://www.indeed.com/pagead/clk?mo=r&amp;ad=-6NY...</td>\n",
       "      <td>51.6</td>\n",
       "      <td>1,773</td>\n",
       "      <td>hour</td>\n",
       "      <td>None</td>\n",
       "      <td>TX</td>\n",
       "      <td>0.0</td>\n",
       "      <td>good</td>\n",
       "    </tr>\n",
       "    <tr>\n",
       "      <th>14242</th>\n",
       "      <td>nlp and machine learning   internship</td>\n",
       "      <td>mei messaging</td>\n",
       "      <td>new york  ny</td>\n",
       "      <td>You will conduct research and help implement a...</td>\n",
       "      <td>23030.0</td>\n",
       "      <td>https://www.indeed.com/company/Mei/jobs/Nlp-Ma...</td>\n",
       "      <td>60.0</td>\n",
       "      <td>3</td>\n",
       "      <td>hour</td>\n",
       "      <td>New York</td>\n",
       "      <td>NY</td>\n",
       "      <td>0.0</td>\n",
       "      <td>seldom</td>\n",
       "    </tr>\n",
       "  </tbody>\n",
       "</table>\n",
       "</div>"
      ],
      "text/plain": [
       "                                       title         company      location  \\\n",
       "14165               data scientist developer  insight global          none   \n",
       "14242  nlp and machine learning   internship   mei messaging  new york  ny   \n",
       "\n",
       "                                                 summary   salary  \\\n",
       "14165  The main project they will be working on at fi...  56400.0   \n",
       "14242  You will conduct research and help implement a...  23030.0   \n",
       "\n",
       "                                                    href  rate reviews  \\\n",
       "14165  https://www.indeed.com/pagead/clk?mo=r&ad=-6NY...  51.6   1,773   \n",
       "14242  https://www.indeed.com/company/Mei/jobs/Nlp-Ma...  60.0       3   \n",
       "\n",
       "      org_salary_period      city state  above_med_sal review_status  \n",
       "14165              hour      None    TX            0.0          good  \n",
       "14242              hour  New York    NY            0.0        seldom  "
      ]
     },
     "execution_count": 18,
     "metadata": {},
     "output_type": "execute_result"
    }
   ],
   "source": [
    "job_state_df = full_data[full_data.state.isin(most_job_states)]\n",
    "job_state_df.tail(2)"
   ]
  },
  {
   "cell_type": "code",
   "execution_count": 19,
   "metadata": {},
   "outputs": [
    {
     "data": {
      "text/plain": [
       "<seaborn.axisgrid.FacetGrid at 0x10b91c160>"
      ]
     },
     "execution_count": 19,
     "metadata": {},
     "output_type": "execute_result"
    },
    {
     "data": {
      "image/png": "[encoded data removed]",
      "text/plain": [
       "<Figure size 288x288 with 1 Axes>"
      ]
     },
     "metadata": {},
     "output_type": "display_data"
    }
   ],
   "source": [
    "sns.factorplot('state', 'salary', data=job_state_df)"
   ]
  },
  {
   "cell_type": "code",
   "execution_count": 20,
   "metadata": {},
   "outputs": [
    {
     "data": {
      "text/plain": [
       "<seaborn.axisgrid.FacetGrid at 0x10c033828>"
      ]
     },
     "execution_count": 20,
     "metadata": {},
     "output_type": "execute_result"
    },
    {
     "data": {
      "image/png": "[encoded data removed]",
      "text/plain": [
       "<Figure size 365x288 with 1 Axes>"
      ]
     },
     "metadata": {},
     "output_type": "display_data"
    }
   ],
   "source": [
    "sns.factorplot('state', 'salary',  hue='review_status', data=job_state_df)"
   ]
  },
  {
   "cell_type": "code",
   "execution_count": 21,
   "metadata": {},
   "outputs": [
    {
     "name": "stderr",
     "output_type": "stream",
     "text": [
      "/Users/yizhuoli/anaconda3/lib/python3.6/site-packages/pandas/core/indexing.py:189: SettingWithCopyWarning: \n",
      "A value is trying to be set on a copy of a slice from a DataFrame\n",
      "\n",
      "See the caveats in the documentation: http://pandas.pydata.org/pandas-docs/stable/indexing.html#indexing-view-versus-copy\n",
      "  self._setitem_with_indexer(indexer, value)\n",
      "/Users/yizhuoli/anaconda3/lib/python3.6/site-packages/ipykernel_launcher.py:1: SettingWithCopyWarning: \n",
      "A value is trying to be set on a copy of a slice from a DataFrame\n",
      "\n",
      "See the caveats in the documentation: http://pandas.pydata.org/pandas-docs/stable/indexing.html#indexing-view-versus-copy\n",
      "  \"\"\"Entry point for launching an IPython kernel.\n",
      "/Users/yizhuoli/anaconda3/lib/python3.6/site-packages/ipykernel_launcher.py:2: SettingWithCopyWarning: \n",
      "A value is trying to be set on a copy of a slice from a DataFrame\n",
      "\n",
      "See the caveats in the documentation: http://pandas.pydata.org/pandas-docs/stable/indexing.html#indexing-view-versus-copy\n",
      "  \n",
      "/Users/yizhuoli/anaconda3/lib/python3.6/site-packages/ipykernel_launcher.py:3: SettingWithCopyWarning: \n",
      "A value is trying to be set on a copy of a slice from a DataFrame\n",
      "\n",
      "See the caveats in the documentation: http://pandas.pydata.org/pandas-docs/stable/indexing.html#indexing-view-versus-copy\n",
      "  This is separate from the ipykernel package so we can avoid doing imports until\n"
     ]
    }
   ],
   "source": [
    "job_state_df['review_status'].loc[job_state_df['review_status'] == 'seldom'] = 0\n",
    "job_state_df['review_status'].loc[job_state_df['review_status'] == 'normal'] = 1\n",
    "job_state_df['review_status'].loc[job_state_df['review_status'] == 'good'] = 2"
   ]
  },
  {
   "cell_type": "code",
   "execution_count": 22,
   "metadata": {
    "scrolled": true
   },
   "outputs": [
    {
     "data": {
      "text/plain": [
       "<seaborn.axisgrid.FacetGrid at 0x1a1972d128>"
      ]
     },
     "execution_count": 22,
     "metadata": {},
     "output_type": "execute_result"
    },
    {
     "data": {
      "image/png": "[encoded data removed]",
      "text/plain": [
       "<Figure size 360x360 with 1 Axes>"
      ]
     },
     "metadata": {},
     "output_type": "display_data"
    }
   ],
   "source": [
    "sns.lmplot('review_status', 'salary', data=job_state_df)"
   ]
  },
  {
   "cell_type": "code",
   "execution_count": 23,
   "metadata": {},
   "outputs": [
    {
     "data": {
      "text/plain": [
       "<seaborn.axisgrid.FacetGrid at 0x1a19711a20>"
      ]
     },
     "execution_count": 23,
     "metadata": {},
     "output_type": "execute_result"
    },
    {
     "data": {
      "image/png": "[encoded data removed]",
      "text/plain": [
       "<Figure size 412.75x360 with 1 Axes>"
      ]
     },
     "metadata": {},
     "output_type": "display_data"
    }
   ],
   "source": [
    "sns.lmplot('review_status', 'salary', hue='state', data=job_state_df)"
   ]
  },
  {
   "cell_type": "markdown",
   "metadata": {},
   "source": [
    "### Existing Problem ###  \n",
    "1. lots of same job. They are not exactly same, but may come from the same company but not the same location or only a few differences.  \n",
    "2. Most rate companies do not heve more salary in TX may reflect that TX is still development."
   ]
  },
  {
   "cell_type": "code",
   "execution_count": 24,
   "metadata": {},
   "outputs": [
    {
     "data": {
      "text/plain": [
       "51700.0     114\n",
       "50000.0      99\n",
       "57500.0      98\n",
       "47500.0      67\n",
       "24910.0      66\n",
       "61000.0      64\n",
       "100000.0     64\n",
       "115000.0     58\n",
       "126900.0     51\n",
       "87500.0      46\n",
       "42500.0      45\n",
       "24440.0      42\n",
       "110000.0     25\n",
       "78102.0      23\n",
       "56400.0      19\n",
       "140000.0     13\n",
       "135000.0     11\n",
       "150000.0     10\n",
       "120000.0     10\n",
       "32900.0      10\n",
       "130000.0     10\n",
       "125000.0     10\n",
       "160000.0      9\n",
       "60000.0       9\n",
       "165000.0      9\n",
       "90000.0       8\n",
       "85000.0       7\n",
       "170000.0      7\n",
       "80000.0       6\n",
       "55000.0       6\n",
       "           ... \n",
       "48504.0       1\n",
       "48500.0       1\n",
       "153024.0      1\n",
       "25850.0       1\n",
       "43954.4       1\n",
       "30550.0       1\n",
       "31020.0       1\n",
       "58000.0       1\n",
       "207387.5      1\n",
       "21150.0       1\n",
       "223720.0      1\n",
       "77035.0       1\n",
       "52850.0       1\n",
       "195000.0      1\n",
       "22325.0       1\n",
       "36450.0       1\n",
       "112500.0      1\n",
       "63061.5       1\n",
       "64000.0       1\n",
       "76950.0       1\n",
       "29476.5       1\n",
       "275000.0      1\n",
       "113796.0      1\n",
       "95340.0       1\n",
       "83000.0       1\n",
       "68648.5       1\n",
       "82973.0       1\n",
       "216200.0      1\n",
       "44551.0       1\n",
       "67584.0       1\n",
       "Name: salary, Length: 277, dtype: int64"
      ]
     },
     "execution_count": 24,
     "metadata": {},
     "output_type": "execute_result"
    }
   ],
   "source": [
    "full_data['salary'].value_counts()"
   ]
  },
  {
   "cell_type": "code",
   "execution_count": null,
   "metadata": {},
   "outputs": [],
   "source": []
  }
 ],
 "metadata": {
  "kernelspec": {
   "display_name": "Python 3",
   "language": "python",
   "name": "python3"
  },
  "language_info": {
   "codemirror_mode": {
    "name": "ipython",
    "version": 3
   },
   "file_extension": ".py",
   "mimetype": "text/x-python",
   "name": "python",
   "nbconvert_exporter": "python",
   "pygments_lexer": "ipython3",
   "version": "3.6.5"
  }
 },
 "nbformat": 4,
 "nbformat_minor": 2
}
